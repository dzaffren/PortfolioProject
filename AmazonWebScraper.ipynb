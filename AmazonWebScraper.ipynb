{
 "cells": [
  {
   "cell_type": "code",
   "execution_count": 83,
   "metadata": {},
   "outputs": [],
   "source": [
    "from bs4 import BeautifulSoup\n",
    "import requests\n",
    "import time\n",
    "import datetime\n",
    "\n",
    "import smtplib"
   ]
  },
  {
   "cell_type": "code",
   "execution_count": 84,
   "metadata": {},
   "outputs": [
    {
     "name": "stdout",
     "output_type": "stream",
     "text": [
      "169.99\n"
     ]
    }
   ],
   "source": [
    "# Connect to website\n",
    "\n",
    "url = 'https://www.amazon.co.uk/Shark-Upright-Cleaner-NV602UK-Lift-Away/dp/B08CKW7ZJT?ref=dlx_deals_gd_dcl_img_8_1c7b6bd3_dt_sl6_45'\n",
    "\n",
    "headers = {\"User-Agent\": \"Mozilla/5.0 (Windows NT 10.0; Win64; x64) AppleWebKit/537.36 (KHTML, like Gecko) Chrome/102.0.0.0 Safari/537.36\"}\n",
    "\n",
    "page = requests.get(url, headers=headers)\n",
    "\n",
    "soup1 = BeautifulSoup(page.content, \"html.parser\")\n",
    "\n",
    "soup2 = BeautifulSoup(soup1.prettify(), \"html.parser\")\n",
    "\n",
    "def only_string(ID):\n",
    "    ID = ID.split('\\n')\n",
    "    ID = [line for line in ID if line.strip() != '']\n",
    "    ID = ID[0].strip()\n",
    "    return ID\n",
    "\n",
    "title = soup2.find(id='productTitle').get_text()\n",
    "\n",
    "title = only_string(title)\n",
    "\n",
    "price = soup2.find(id='corePrice_feature_div').get_text()\n",
    "\n",
    "price = only_string(price)\n",
    "\n",
    "price = price.replace(price[0], '')\n",
    "\n",
    "print(price)"
   ]
  },
  {
   "cell_type": "code",
   "execution_count": 85,
   "metadata": {},
   "outputs": [],
   "source": [
    "import csv\n",
    "\n",
    "today = datetime.date.today()\n",
    "header = ['Title', 'Price', 'Date']\n",
    "data = [title, price, today]\n",
    "\n",
    "with open('AmazonWebScraperDataset.csv', 'w', newline='', encoding='UTF8') as f:\n",
    "    writer = csv.writer(f)\n",
    "    writer.writerow(header)\n",
    "    writer.writerow(data)\n",
    "\n"
   ]
  },
  {
   "cell_type": "code",
   "execution_count": 86,
   "metadata": {},
   "outputs": [
    {
     "name": "stdout",
     "output_type": "stream",
     "text": [
      "                                               Title   Price        Date\n",
      "0  Shark Upright Vacuum Cleaner [NV602UK] Lift-Aw...  169.99  2022-06-19\n"
     ]
    }
   ],
   "source": [
    "import pandas as pd\n",
    "\n",
    "df = pd.read_csv(r'C:\\Users\\adzaf\\OneDrive\\Documents\\Python Portfolio\\AmazonWebScraperDataset.csv')\n",
    "\n",
    "print(df)"
   ]
  },
  {
   "cell_type": "code",
   "execution_count": 87,
   "metadata": {},
   "outputs": [],
   "source": [
    "# Appending new data to dataset\n",
    "\n",
    "with open('AmazonWebScraperDataset.csv', 'a+', newline='', encoding='UTF8') as f:\n",
    "    writer = csv.writer(f)\n",
    "    writer.writerow(data)"
   ]
  },
  {
   "cell_type": "code",
   "execution_count": 88,
   "metadata": {},
   "outputs": [],
   "source": [
    "def check_price():\n",
    "    url = 'https://www.amazon.co.uk/Shark-Upright-Cleaner-NV602UK-Lift-Away/dp/B08CKW7ZJT?ref=dlx_deals_gd_dcl_img_8_1c7b6bd3_dt_sl6_45'\n",
    "\n",
    "    headers = {\"User-Agent\": \"Mozilla/5.0 (Windows NT 10.0; Win64; x64) AppleWebKit/537.36 (KHTML, like Gecko) Chrome/102.0.0.0 Safari/537.36\"}\n",
    "\n",
    "    page = requests.get(url, headers=headers)\n",
    "\n",
    "    soup1 = BeautifulSoup(page.content, \"html.parser\")\n",
    "\n",
    "    soup2 = BeautifulSoup(soup1.prettify(), \"html.parser\")\n",
    "\n",
    "    def only_string(ID):\n",
    "        ID = ID.split('\\n')\n",
    "        ID = [line for line in ID if line.strip() != '']\n",
    "        ID = ID[0].strip()\n",
    "        return ID\n",
    "\n",
    "    title = soup2.find(id='productTitle').get_text()\n",
    "\n",
    "    title = only_string(title)\n",
    "\n",
    "    price = soup2.find(id='corePrice_feature_div').get_text()\n",
    "\n",
    "    price = only_string(price)\n",
    "\n",
    "    price = price.replace(price[0], '')\n",
    "\n",
    "    import csv\n",
    "\n",
    "    today = datetime.date.today()\n",
    "    header = ['Title', 'Price', 'Date']\n",
    "    data = [title, price, today]\n",
    "\n",
    "    with open('AmazonWebScraperDataset.csv', 'a+', newline='', encoding='UTF8') as f:\n",
    "        writer = csv.writer(f)\n",
    "        writer.writerow(data)"
   ]
  },
  {
   "cell_type": "code",
   "execution_count": 93,
   "metadata": {},
   "outputs": [
    {
     "ename": "KeyboardInterrupt",
     "evalue": "",
     "output_type": "error",
     "traceback": [
      "\u001b[1;31m---------------------------------------------------------------------------\u001b[0m",
      "\u001b[1;31mKeyboardInterrupt\u001b[0m                         Traceback (most recent call last)",
      "\u001b[1;32mUntitled-1.ipynb Cell 7'\u001b[0m in \u001b[0;36m<cell line: 2>\u001b[1;34m()\u001b[0m\n\u001b[0;32m      <a href='vscode-notebook-cell:Untitled-1.ipynb?jupyter-notebook#ch0000008untitled?line=0'>1</a>\u001b[0m \u001b[39mwhile\u001b[39;00m \u001b[39mTrue\u001b[39;00m:\n\u001b[0;32m      <a href='vscode-notebook-cell:Untitled-1.ipynb?jupyter-notebook#ch0000008untitled?line=1'>2</a>\u001b[0m     check_price()\n\u001b[1;32m----> <a href='vscode-notebook-cell:Untitled-1.ipynb?jupyter-notebook#ch0000008untitled?line=2'>3</a>\u001b[0m     time\u001b[39m.\u001b[39;49msleep(\u001b[39m5\u001b[39;49m)\n",
      "\u001b[1;31mKeyboardInterrupt\u001b[0m: "
     ]
    }
   ],
   "source": [
    "while True:\n",
    "    check_price()\n",
    "    time.sleep(5)"
   ]
  },
  {
   "cell_type": "code",
   "execution_count": 94,
   "metadata": {},
   "outputs": [
    {
     "name": "stdout",
     "output_type": "stream",
     "text": [
      "                                                Title   Price        Date\n",
      "0   Shark Upright Vacuum Cleaner [NV602UK] Lift-Aw...  169.99  2022-06-19\n",
      "1   Shark Upright Vacuum Cleaner [NV602UK] Lift-Aw...  169.99  2022-06-19\n",
      "2   Shark Upright Vacuum Cleaner [NV602UK] Lift-Aw...  169.99  2022-06-19\n",
      "3   Shark Upright Vacuum Cleaner [NV602UK] Lift-Aw...  169.99  2022-06-19\n",
      "4   Shark Upright Vacuum Cleaner [NV602UK] Lift-Aw...  169.99  2022-06-19\n",
      "5   Shark Upright Vacuum Cleaner [NV602UK] Lift-Aw...  169.99  2022-06-19\n",
      "6   Shark Upright Vacuum Cleaner [NV602UK] Lift-Aw...  169.99  2022-06-19\n",
      "7   Shark Upright Vacuum Cleaner [NV602UK] Lift-Aw...  169.99  2022-06-19\n",
      "8   Shark Upright Vacuum Cleaner [NV602UK] Lift-Aw...  169.99  2022-06-19\n",
      "9   Shark Upright Vacuum Cleaner [NV602UK] Lift-Aw...  169.99  2022-06-19\n",
      "10  Shark Upright Vacuum Cleaner [NV602UK] Lift-Aw...  169.99  2022-06-19\n",
      "11  Shark Upright Vacuum Cleaner [NV602UK] Lift-Aw...  169.99  2022-06-19\n",
      "12  Shark Upright Vacuum Cleaner [NV602UK] Lift-Aw...  169.99  2022-06-19\n"
     ]
    }
   ],
   "source": [
    "import pandas as pd\n",
    "\n",
    "df = pd.read_csv(r'C:\\Users\\adzaf\\OneDrive\\Documents\\Python Portfolio\\AmazonWebScraperDataset.csv')\n",
    "\n",
    "print(df)"
   ]
  },
  {
   "cell_type": "code",
   "execution_count": null,
   "metadata": {},
   "outputs": [],
   "source": []
  }
 ],
 "metadata": {
  "kernelspec": {
   "display_name": "Python 3.9.12 ('base')",
   "language": "python",
   "name": "python3"
  },
  "language_info": {
   "name": "python",
   "version": "3.9.12"
  },
  "orig_nbformat": 4,
  "vscode": {
   "interpreter": {
    "hash": "cf5ac7e737c635ff06f21d9e996b56148f873b0563adc6d29b408052036f2478"
   }
  }
 },
 "nbformat": 4,
 "nbformat_minor": 2
}
